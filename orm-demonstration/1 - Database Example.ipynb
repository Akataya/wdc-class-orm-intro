{
 "cells": [
  {
   "cell_type": "code",
   "execution_count": 1,
   "metadata": {},
   "outputs": [],
   "source": [
    "import sqlite3"
   ]
  },
  {
   "cell_type": "code",
   "execution_count": 2,
   "metadata": {},
   "outputs": [],
   "source": [
    "db = sqlite3.connect('library.db')"
   ]
  },
  {
   "cell_type": "markdown",
   "metadata": {},
   "source": [
    "**A simple \"select star\" query:**"
   ]
  },
  {
   "cell_type": "code",
   "execution_count": 4,
   "metadata": {},
   "outputs": [
    {
     "data": {
      "text/plain": [
       "[(1, 1, 'Edgar Allan Poe'),\n",
       " (2, 1, 'Mark Twain'),\n",
       " (3, 2, 'Jane Austen'),\n",
       " (4, 4, 'Arthur Conan Doyle'),\n",
       " (5, 3, 'Jorge Luis Borges')]"
      ]
     },
     "execution_count": 4,
     "metadata": {},
     "output_type": "execute_result"
    }
   ],
   "source": [
    "cursor = db.execute('SELECT * FROM Author')\n",
    "cursor.fetchall()"
   ]
  },
  {
   "cell_type": "markdown",
   "metadata": {},
   "source": [
    "**A simple WHERE filter**"
   ]
  },
  {
   "cell_type": "code",
   "execution_count": 8,
   "metadata": {},
   "outputs": [
    {
     "data": {
      "text/plain": [
       "(3, 2, 'Jane Austen')"
      ]
     },
     "execution_count": 8,
     "metadata": {},
     "output_type": "execute_result"
    }
   ],
   "source": [
    "cursor = db.execute('SELECT * FROM Author where name = :author_name', {\n",
    "    'author_name': 'Jane Austen'\n",
    "})\n",
    "cursor.fetchone()"
   ]
  },
  {
   "cell_type": "markdown",
   "metadata": {},
   "source": [
    "**A more complicated WHERE filter**\n",
    "\n",
    "We want to find all the books written by _Jane Austen_. For that, we need to first locate Jane's ID and then look up all the books written by her:"
   ]
  },
  {
   "cell_type": "code",
   "execution_count": 10,
   "metadata": {},
   "outputs": [
    {
     "name": "stdout",
     "output_type": "stream",
     "text": [
      "Author: (3, 2, 'Jane Austen')\n"
     ]
    }
   ],
   "source": [
    "cursor = db.execute('SELECT * FROM Author where name = :author_name', {\n",
    "    'author_name': 'Jane Austen'\n",
    "})\n",
    "author = cursor.fetchone()\n",
    "if not author:\n",
    "    print(\"Author not found\")\n",
    "else:\n",
    "    print(\"Author: {}\".format(author))"
   ]
  },
  {
   "cell_type": "code",
   "execution_count": 11,
   "metadata": {},
   "outputs": [],
   "source": [
    "id, country, name = author"
   ]
  },
  {
   "cell_type": "code",
   "execution_count": 13,
   "metadata": {},
   "outputs": [
    {
     "data": {
      "text/plain": [
       "[(1, 3, 'Pride & Prejudice', 'B1'), (3, 3, 'Emma', 'B3')]"
      ]
     },
     "execution_count": 13,
     "metadata": {},
     "output_type": "execute_result"
    }
   ],
   "source": [
    "cursor = db.execute('SELECT * FROM book where author_id = :author_id', {\n",
    "    'author_id': id\n",
    "})\n",
    "cursor.fetchall()"
   ]
  },
  {
   "cell_type": "markdown",
   "metadata": {},
   "source": [
    "**JOIN: Printing books and authors**"
   ]
  },
  {
   "cell_type": "code",
   "execution_count": 14,
   "metadata": {},
   "outputs": [
    {
     "data": {
      "text/plain": [
       "[('Pride & Prejudice', 'Jane Austen'),\n",
       " ('A Study in Scarlet', 'Arthur Conan Doyle'),\n",
       " ('Emma', 'Jane Austen')]"
      ]
     },
     "execution_count": 14,
     "metadata": {},
     "output_type": "execute_result"
    }
   ],
   "source": [
    "cursor = db.execute('SELECT b.title, a.name FROM book b JOIN author a ON (b.author_id = a.id)')\n",
    "cursor.fetchall()"
   ]
  },
  {
   "cell_type": "markdown",
   "metadata": {},
   "source": [
    "**Inserting new values**"
   ]
  },
  {
   "cell_type": "code",
   "execution_count": 15,
   "metadata": {},
   "outputs": [
    {
     "data": {
      "text/plain": [
       "[(1, 1, 'Edgar Allan Poe'),\n",
       " (2, 1, 'Mark Twain'),\n",
       " (3, 2, 'Jane Austen'),\n",
       " (4, 4, 'Arthur Conan Doyle'),\n",
       " (5, 3, 'Jorge Luis Borges')]"
      ]
     },
     "execution_count": 15,
     "metadata": {},
     "output_type": "execute_result"
    }
   ],
   "source": [
    "cursor = db.execute('SELECT * FROM Author')\n",
    "cursor.fetchall()"
   ]
  },
  {
   "cell_type": "code",
   "execution_count": 16,
   "metadata": {},
   "outputs": [],
   "source": [
    "cursor = db.execute(\"INSERT INTO book (author_id, title, isbn) VALUES (1, 'The Raven', 'B4');\")"
   ]
  },
  {
   "cell_type": "code",
   "execution_count": 19,
   "metadata": {},
   "outputs": [],
   "source": [
    "db.commit()"
   ]
  },
  {
   "cell_type": "code",
   "execution_count": 21,
   "metadata": {},
   "outputs": [
    {
     "data": {
      "text/plain": [
       "[(1, 3, 'Pride & Prejudice', 'B1'),\n",
       " (2, 4, 'A Study in Scarlet', 'B2'),\n",
       " (3, 3, 'Emma', 'B3'),\n",
       " (4, 1, 'The Raven', 'B4')]"
      ]
     },
     "execution_count": 21,
     "metadata": {},
     "output_type": "execute_result"
    }
   ],
   "source": [
    "cursor = db.execute('SELECT * FROM book')\n",
    "cursor.fetchall()"
   ]
  },
  {
   "cell_type": "markdown",
   "metadata": {},
   "source": [
    "**Inserting a new book, by author's name**"
   ]
  },
  {
   "cell_type": "code",
   "execution_count": 26,
   "metadata": {},
   "outputs": [],
   "source": [
    "author_name = 'Jorge Luis Borges'\n",
    "book_title = 'Ficciones'\n",
    "isbn = 'B5'"
   ]
  },
  {
   "cell_type": "code",
   "execution_count": 25,
   "metadata": {
    "scrolled": true
   },
   "outputs": [
    {
     "name": "stdout",
     "output_type": "stream",
     "text": [
      "Author: (5, 3, 'Jorge Luis Borges')\n"
     ]
    }
   ],
   "source": [
    "cursor = db.execute('SELECT * FROM Author where name = :author_name', {\n",
    "    'author_name': author_name\n",
    "})\n",
    "author = cursor.fetchone()\n",
    "if not author:\n",
    "    print(\"Author not found\")\n",
    "else:\n",
    "    print(\"Author: {}\".format(author))"
   ]
  },
  {
   "cell_type": "code",
   "execution_count": 27,
   "metadata": {},
   "outputs": [],
   "source": [
    "cursor = db.execute(\"\"\"\n",
    "    INSERT INTO book (author_id, title, isbn)\n",
    "    VALUES (:author_id, :title, :isbn)\n",
    "\"\"\", {\n",
    "    'author_id': author[0],\n",
    "    'title': book_title,\n",
    "    'isbn': isbn\n",
    "})"
   ]
  },
  {
   "cell_type": "code",
   "execution_count": 28,
   "metadata": {},
   "outputs": [],
   "source": [
    "db.commit()"
   ]
  },
  {
   "cell_type": "code",
   "execution_count": 29,
   "metadata": {},
   "outputs": [
    {
     "data": {
      "text/plain": [
       "[(1, 3, 'Pride & Prejudice', 'B1'),\n",
       " (2, 4, 'A Study in Scarlet', 'B2'),\n",
       " (3, 3, 'Emma', 'B3'),\n",
       " (4, 1, 'The Raven', 'B4'),\n",
       " (5, 5, 'Ficciones', 'B5')]"
      ]
     },
     "execution_count": 29,
     "metadata": {},
     "output_type": "execute_result"
    }
   ],
   "source": [
    "cursor = db.execute('SELECT * FROM book')\n",
    "cursor.fetchall()"
   ]
  }
 ],
 "metadata": {
  "kernelspec": {
   "display_name": "Python 3",
   "language": "python",
   "name": "python3"
  },
  "language_info": {
   "codemirror_mode": {
    "name": "ipython",
    "version": 3
   },
   "file_extension": ".py",
   "mimetype": "text/x-python",
   "name": "python",
   "nbconvert_exporter": "python",
   "pygments_lexer": "ipython3",
   "version": "3.6.4"
  }
 },
 "nbformat": 4,
 "nbformat_minor": 2
}
