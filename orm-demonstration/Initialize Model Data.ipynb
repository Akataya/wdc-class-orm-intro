{
 "cells": [
  {
   "cell_type": "code",
   "execution_count": 1,
   "metadata": {},
   "outputs": [],
   "source": [
    "import os\n",
    "import django\n",
    "from django.conf import settings\n"
   ]
  },
  {
   "cell_type": "code",
   "execution_count": 2,
   "metadata": {},
   "outputs": [],
   "source": [
    "os.environ['DJANGO_SETTINGS_MODULE'] = 'sample_project.settings'\n",
    "django.setup()\n",
    "from sample_app.models import Country, Author, Book"
   ]
  },
  {
   "cell_type": "code",
   "execution_count": 6,
   "metadata": {},
   "outputs": [],
   "source": [
    "countries = [\n",
    "    (1, 'United States'),\n",
    "    (2, 'England'),\n",
    "    (3, 'Argentina'),\n",
    "    (4, 'Scotland')\n",
    "]"
   ]
  },
  {
   "cell_type": "code",
   "execution_count": 7,
   "metadata": {},
   "outputs": [],
   "source": [
    "authors = [\n",
    "  (1, 1, 'Edgar Allan Poe'),\n",
    "  (2, 1, 'Mark Twain'),\n",
    "  (3, 2, 'Jane Austen'),\n",
    "  (4, 4, 'Arthur Conan Doyle'),\n",
    "  (5, 3, 'Jorge Luis Borges'),\n",
    "]"
   ]
  },
  {
   "cell_type": "code",
   "execution_count": 8,
   "metadata": {},
   "outputs": [],
   "source": [
    "books = [\n",
    "  (1, 3, 'Pride & Prejudice', 'B1', 5.0),\n",
    "  (2, 4, 'A Study in Scarlet', 'B2', 4.6),\n",
    "  (3, 3, 'Emma', 'B3', 3.50),]"
   ]
  },
  {
   "cell_type": "code",
   "execution_count": 9,
   "metadata": {},
   "outputs": [
    {
     "data": {
      "text/plain": [
       "(0, {'sample_app.Country': 0})"
      ]
     },
     "execution_count": 9,
     "metadata": {},
     "output_type": "execute_result"
    }
   ],
   "source": [
    "Author.objects.all().delete()\n",
    "Book.objects.all().delete()\n",
    "Country.objects.all().delete()"
   ]
  },
  {
   "cell_type": "code",
   "execution_count": 10,
   "metadata": {},
   "outputs": [],
   "source": [
    "for _, c in countries:\n",
    "    Country.objects.create(name=c)"
   ]
  },
  {
   "cell_type": "code",
   "execution_count": 11,
   "metadata": {},
   "outputs": [],
   "source": [
    "for _, country, name in authors:\n",
    "    Author.objects.create(name=name, country_id=country)"
   ]
  },
  {
   "cell_type": "code",
   "execution_count": 12,
   "metadata": {},
   "outputs": [],
   "source": [
    "for _, author, title, isbn, pop in books:\n",
    "    Book.objects.create(title=title, author_id=author, isbn=isbn, popularity=pop)"
   ]
  }
 ],
 "metadata": {
  "kernelspec": {
   "display_name": "Python 3",
   "language": "python",
   "name": "python3"
  },
  "language_info": {
   "codemirror_mode": {
    "name": "ipython",
    "version": 3
   },
   "file_extension": ".py",
   "mimetype": "text/x-python",
   "name": "python",
   "nbconvert_exporter": "python",
   "pygments_lexer": "ipython3",
   "version": "3.6.4"
  }
 },
 "nbformat": 4,
 "nbformat_minor": 2
}
